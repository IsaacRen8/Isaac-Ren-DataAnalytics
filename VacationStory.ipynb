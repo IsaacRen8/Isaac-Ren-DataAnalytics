{
 "cells": [
  {
   "cell_type": "code",
   "execution_count": 3,
   "id": "519527cc",
   "metadata": {},
   "outputs": [
    {
     "name": "stdout",
     "output_type": "stream",
     "text": [
      "Isaac's Vacation Story\n",
      "Over the past 2 weeks I have been keeping busy, hitting the gym spending time with friends and playing lots of Basketball.\n",
      "During the second half of the 2 weeks I went to Lake Cowichan\n",
      "And I enjoyed my time up there spending time with my friends and tubing on the lake\n",
      "However, I injured myself while tubing. Now I'm recovering\n"
     ]
    }
   ],
   "source": [
    "print(\"Isaac's Vacation Story\")\n",
    "print(\"Over the past 2 weeks I have been keeping busy, hitting the gym spending time with friends and playing lots of Basketball.\")\n",
    "print(\"During the second half of the 2 weeks I went to Lake Cowichan\")\n",
    "print(\"And I enjoyed my time up there spending time with my friends and tubing on the lake\")\n",
    "print(\"However, I injured myself while tubing. Now I'm recovering\")"
   ]
  }
 ],
 "metadata": {
  "kernelspec": {
   "display_name": "Python 3",
   "language": "python",
   "name": "python3"
  },
  "language_info": {
   "codemirror_mode": {
    "name": "ipython",
    "version": 3
   },
   "file_extension": ".py",
   "mimetype": "text/x-python",
   "name": "python",
   "nbconvert_exporter": "python",
   "pygments_lexer": "ipython3",
   "version": "3.13.6"
  }
 },
 "nbformat": 4,
 "nbformat_minor": 5
}
