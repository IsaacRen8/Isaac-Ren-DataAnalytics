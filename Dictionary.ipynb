{
 "cells": [
  {
   "cell_type": "markdown",
   "id": "a39456ee",
   "metadata": {},
   "source": [
    "## Dictionary\n"
   ]
  },
  {
   "cell_type": "code",
   "execution_count": null,
   "id": "cd12a6df",
   "metadata": {},
   "outputs": [
    {
     "name": "stdout",
     "output_type": "stream",
     "text": [
      "Isaac\n",
      "14\n",
      "Victoria\n",
      "Isaac\n",
      "14\n",
      "Victoria\n"
     ]
    }
   ],
   "source": [
    "d= {'name':'Isaac',\n",
    "  'age': 14,\n",
    "  'city':'Victoria'\n",
    "}\n",
    "print(d['name'])\n",
    "print(d['age'])\n",
    "print(d['city'])\n",
    "\n",
    "for x in d: #prints the 'key'/x stores the key\n",
    "    print(d[x]) # x loops all the keys "
   ]
  },
  {
   "cell_type": "code",
   "execution_count": null,
   "id": "1d6eba2c",
   "metadata": {},
   "outputs": [],
   "source": []
  }
 ],
 "metadata": {
  "kernelspec": {
   "display_name": "Python 3",
   "language": "python",
   "name": "python3"
  },
  "language_info": {
   "codemirror_mode": {
    "name": "ipython",
    "version": 3
   },
   "file_extension": ".py",
   "mimetype": "text/x-python",
   "name": "python",
   "nbconvert_exporter": "python",
   "pygments_lexer": "ipython3",
   "version": "3.13.6"
  }
 },
 "nbformat": 4,
 "nbformat_minor": 5
}
