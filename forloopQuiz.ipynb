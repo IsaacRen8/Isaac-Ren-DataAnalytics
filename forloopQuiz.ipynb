{
 "cells": [
  {
   "cell_type": "code",
   "execution_count": 1,
   "id": "8a7cd94b",
   "metadata": {},
   "outputs": [
    {
     "ename": "NameError",
     "evalue": "name 'given' is not defined",
     "output_type": "error",
     "traceback": [
      "\u001b[0;31m---------------------------------------------------------------------------\u001b[0m",
      "\u001b[0;31mNameError\u001b[0m                                 Traceback (most recent call last)",
      "Cell \u001b[0;32mIn[1], line 6\u001b[0m\n\u001b[1;32m      4\u001b[0m x\u001b[38;5;241m=\u001b[39m\u001b[38;5;241m20\u001b[39m\n\u001b[1;32m      5\u001b[0m \u001b[38;5;28;01mfor\u001b[39;00m i \u001b[38;5;129;01min\u001b[39;00m \u001b[38;5;28mrange\u001b[39m(\u001b[38;5;241m0\u001b[39m,\u001b[38;5;241m5\u001b[39m):\n\u001b[0;32m----> 6\u001b[0m     \u001b[38;5;28;01mif\u001b[39;00m x\u001b[38;5;241m<\u001b[39m \u001b[43mgiven\u001b[49m[i]:\n\u001b[1;32m      7\u001b[0m         \u001b[38;5;28;01mpass\u001b[39;00m\n\u001b[1;32m      8\u001b[0m     \u001b[38;5;28;01melse\u001b[39;00m:\n",
      "\u001b[0;31mNameError\u001b[0m: name 'given' is not defined"
     ]
    }
   ],
   "source": [
    "wanted=[]#less than 20\n",
    "#if given>20 identify as wanted\n",
    "#need variable to identify the number\n",
    "x=20\n",
    "for i in range(0,5):\n",
    "    if x< given[i]:\n",
    "        pass\n",
    "    else:\n",
    "        temp=(given[i])\n",
    "        wanted.append(temp)\n",
    "print(wanted)\n"
   ]
  },
  {
   "cell_type": "code",
   "execution_count": null,
   "id": "02f1fc49",
   "metadata": {},
   "outputs": [],
   "source": []
  },
  {
   "cell_type": "code",
   "execution_count": null,
   "id": "98fd9e02",
   "metadata": {},
   "outputs": [],
   "source": [
    "wanted=[]#less than 20\n",
    "#if given>20 identify as wanted\n",
    "#need variable to identify the number\n",
    "x=20\n",
    "for i in range(0,5):\n",
    "    if x< given[i]:\n"
   ]
  }
 ],
 "metadata": {
  "kernelspec": {
   "display_name": "Python 3",
   "language": "python",
   "name": "python3"
  },
  "language_info": {
   "codemirror_mode": {
    "name": "ipython",
    "version": 3
   },
   "file_extension": ".py",
   "mimetype": "text/x-python",
   "name": "python",
   "nbconvert_exporter": "python",
   "pygments_lexer": "ipython3",
   "version": "3.9.6"
  }
 },
 "nbformat": 4,
 "nbformat_minor": 5
}
