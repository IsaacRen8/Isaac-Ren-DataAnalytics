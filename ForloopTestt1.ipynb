{
 "cells": [
  {
   "cell_type": "code",
   "execution_count": null,
   "id": "1146b874",
   "metadata": {},
   "outputs": [],
   "source": [
    "given=[22,10,97,17,5]\n",
    "wanted=[]#less than 20\n"
   ]
  },
  {
   "cell_type": "code",
   "execution_count": 11,
   "id": "adf40827",
   "metadata": {},
   "outputs": [
    {
     "name": "stdout",
     "output_type": "stream",
     "text": [
      "[10, 17, 5]\n"
     ]
    }
   ],
   "source": [
    "given=[22,10,97,17,5]\n",
    "wanted=[]#less than 20\n",
    "#if given>20 idnetify as wanted\n",
    "#need variable to identify the number\n",
    "x=20\n",
    "for i in range(0,5):\n",
    "    if x< given[i]:\n",
    "        pass\n",
    "    else:\n",
    "        temp=(given[i])\n",
    "        wanted.append(temp)\n",
    "print(wanted)\n",
    "\n",
    "\n",
    "# given.append()\n",
    "# print(wanted)\n"
   ]
  }
 ],
 "metadata": {
  "kernelspec": {
   "display_name": "Python 3",
   "language": "python",
   "name": "python3"
  },
  "language_info": {
   "codemirror_mode": {
    "name": "ipython",
    "version": 3
   },
   "file_extension": ".py",
   "mimetype": "text/x-python",
   "name": "python",
   "nbconvert_exporter": "python",
   "pygments_lexer": "ipython3",
   "version": "3.13.6"
  }
 },
 "nbformat": 4,
 "nbformat_minor": 5
}
