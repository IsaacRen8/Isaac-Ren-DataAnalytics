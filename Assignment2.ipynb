{
 "cells": [
  {
   "cell_type": "code",
   "execution_count": 15,
   "id": "ffeb1f05",
   "metadata": {},
   "outputs": [
    {
     "name": "stdout",
     "output_type": "stream",
     "text": [
      "Isaac's BMI: 20.202020202020204\n"
     ]
    }
   ],
   "source": [
    "##Instructions:\n",
    "#2 BMI (Body Mass Index)\n",
    "# weight= #kg\n",
    "# height= #meter\n",
    "# formula= weight/height to the power of 2\n",
    "#print your own BMI and your families BMI \n",
    "\n",
    "# Let kg represent weight and m represent meters\n",
    "# bmi = weight / (height ** 2)\n",
    "\n",
    "#Isaac's BMI\n",
    "kg=55\n",
    "m=1.65\n",
    "print(\"Isaac's BMI:\",kg/(m ** 2))\n"
   ]
  },
  {
   "cell_type": "code",
   "execution_count": 16,
   "id": "6adb0c20",
   "metadata": {},
   "outputs": [
    {
     "name": "stdout",
     "output_type": "stream",
     "text": [
      "Brother's BMI: 18.974531961544947\n"
     ]
    }
   ],
   "source": [
    "#Brother's BMI\n",
    "kg=45\n",
    "m=1.54\n",
    "print(\"Brother's BMI:\",kg/(m ** 2))"
   ]
  },
  {
   "cell_type": "code",
   "execution_count": 17,
   "id": "2a6fdc72",
   "metadata": {},
   "outputs": [
    {
     "name": "stdout",
     "output_type": "stream",
     "text": [
      "Mom's BMI: 25.77777777777778\n"
     ]
    }
   ],
   "source": [
    "#Mom's BMI\n",
    "kg=58\n",
    "m=1.5\n",
    "print(\"Mom's BMI:\",kg/(m ** 2))\n"
   ]
  },
  {
   "cell_type": "code",
   "execution_count": 18,
   "id": "1c57404e",
   "metadata": {},
   "outputs": [
    {
     "name": "stdout",
     "output_type": "stream",
     "text": [
      "Dad's BMI: 24.56747404844291\n"
     ]
    }
   ],
   "source": [
    "#Dad's BMI\n",
    "kg=71\n",
    "m=1.7\n",
    "print(\"Dad's BMI:\",kg/(m ** 2))\n"
   ]
  }
 ],
 "metadata": {
  "kernelspec": {
   "display_name": "Python 3",
   "language": "python",
   "name": "python3"
  },
  "language_info": {
   "codemirror_mode": {
    "name": "ipython",
    "version": 3
   },
   "file_extension": ".py",
   "mimetype": "text/x-python",
   "name": "python",
   "nbconvert_exporter": "python",
   "pygments_lexer": "ipython3",
   "version": "3.13.6"
  }
 },
 "nbformat": 4,
 "nbformat_minor": 5
}
