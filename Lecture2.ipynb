{
 "cells": [
  {
   "cell_type": "markdown",
   "id": "676274f4",
   "metadata": {},
   "source": [
    "# math operation"
   ]
  },
  {
   "cell_type": "code",
   "execution_count": 41,
   "id": "02430e0b",
   "metadata": {},
   "outputs": [
    {
     "data": {
      "text/plain": [
       "2"
      ]
     },
     "execution_count": 41,
     "metadata": {},
     "output_type": "execute_result"
    }
   ],
   "source": [
    "1+1"
   ]
  },
  {
   "cell_type": "code",
   "execution_count": 42,
   "id": "303ee094",
   "metadata": {},
   "outputs": [
    {
     "data": {
      "text/plain": [
       "3"
      ]
     },
     "execution_count": 42,
     "metadata": {},
     "output_type": "execute_result"
    }
   ],
   "source": [
    "1*3"
   ]
  },
  {
   "cell_type": "code",
   "execution_count": 43,
   "id": "506de3d9",
   "metadata": {},
   "outputs": [
    {
     "data": {
      "text/plain": [
       "2.0"
      ]
     },
     "execution_count": 43,
     "metadata": {},
     "output_type": "execute_result"
    }
   ],
   "source": [
    "4/2 #Division will always gives you float # 1 is integer 1.2 is float"
   ]
  },
  {
   "cell_type": "code",
   "execution_count": 44,
   "id": "4bca0c52",
   "metadata": {},
   "outputs": [
    {
     "data": {
      "text/plain": [
       "9"
      ]
     },
     "execution_count": 44,
     "metadata": {},
     "output_type": "execute_result"
    }
   ],
   "source": [
    "3**2"
   ]
  },
  {
   "cell_type": "code",
   "execution_count": 45,
   "id": "b5bea658",
   "metadata": {},
   "outputs": [
    {
     "data": {
      "text/plain": [
       "1"
      ]
     },
     "execution_count": 45,
     "metadata": {},
     "output_type": "execute_result"
    }
   ],
   "source": [
    "7%2"
   ]
  },
  {
   "cell_type": "code",
   "execution_count": 46,
   "id": "30bbc8e5",
   "metadata": {},
   "outputs": [
    {
     "data": {
      "text/plain": [
       "4.0"
      ]
     },
     "execution_count": 46,
     "metadata": {},
     "output_type": "execute_result"
    }
   ],
   "source": [
    "(3+5)/(1*2)"
   ]
  },
  {
   "cell_type": "markdown",
   "id": "a7d201c9",
   "metadata": {},
   "source": [
    "# Variables"
   ]
  },
  {
   "cell_type": "code",
   "execution_count": 47,
   "id": "29769143",
   "metadata": {},
   "outputs": [
    {
     "name": "stdout",
     "output_type": "stream",
     "text": [
      "13\n",
      "age\n"
     ]
    }
   ],
   "source": [
    "age=13\n",
    "print(age) # tells computer\n",
    "print(\"age\") #prints directly to the computer->quotations"
   ]
  },
  {
   "cell_type": "code",
   "execution_count": null,
   "id": "466266b7",
   "metadata": {},
   "outputs": [
    {
     "name": "stdout",
     "output_type": "stream",
     "text": [
      "17\n"
     ]
    }
   ],
   "source": [
    "alex_age=0 # equals sign means update in whatever comes after the equals->right to left\n",
    "william_age=15\n",
    "alex_age=william_age+2\n",
    "print(alex_age)"
   ]
  },
  {
   "cell_type": "code",
   "execution_count": 5,
   "id": "91a1d5cd",
   "metadata": {},
   "outputs": [
    {
     "name": "stdout",
     "output_type": "stream",
     "text": [
      "5\n"
     ]
    }
   ],
   "source": [
    "x=2\n",
    "y=3\n",
    "z=x+y\n",
    "print(z)"
   ]
  },
  {
   "cell_type": "code",
   "execution_count": 7,
   "id": "a26d14af",
   "metadata": {},
   "outputs": [
    {
     "name": "stdout",
     "output_type": "stream",
     "text": [
      "10\n",
      "5.0\n"
     ]
    }
   ],
   "source": [
    "x=5\n",
    "y=10\n",
    "z=2\n",
    "x=x*z\n",
    "y=y/z\n",
    "print(x)\n",
    "print(y)"
   ]
  },
  {
   "cell_type": "code",
   "execution_count": null,
   "id": "adb01d1e",
   "metadata": {},
   "outputs": [],
   "source": [
    "x=5\n",
    "y=10\n",
    "temp=x\n",
    "x=y #put 10 into x  # destination=value # use the houses to help\n",
    "y=temp # put temp into y\n",
    "print(x)=10\n",
    "print(y)=5\n",
    "\n",
    "\n"
   ]
  },
  {
   "cell_type": "code",
   "execution_count": null,
   "id": "71972f3c",
   "metadata": {},
   "outputs": [],
   "source": [
    "# explain swap code to each other\n",
    "\n",
    "# BMI\n",
    "# weight= #kg\n",
    "# height= #meter\n",
    "# formula= weight/height to the power of 2\n",
    "#print your own BMI and your families BMI "
   ]
  }
 ],
 "metadata": {
  "kernelspec": {
   "display_name": "Python 3",
   "language": "python",
   "name": "python3"
  },
  "language_info": {
   "codemirror_mode": {
    "name": "ipython",
    "version": 3
   },
   "file_extension": ".py",
   "mimetype": "text/x-python",
   "name": "python",
   "nbconvert_exporter": "python",
   "pygments_lexer": "ipython3",
   "version": "3.13.6"
  }
 },
 "nbformat": 4,
 "nbformat_minor": 5
}
