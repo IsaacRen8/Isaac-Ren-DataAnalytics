{
 "cells": [
  {
   "cell_type": "markdown",
   "id": "be15914c",
   "metadata": {},
   "source": [
    "# Assignment 4"
   ]
  },
  {
   "cell_type": "markdown",
   "id": "8cf54f9c",
   "metadata": {},
   "source": [
    "### Multiplication"
   ]
  },
  {
   "cell_type": "code",
   "execution_count": 16,
   "id": "35466a28",
   "metadata": {},
   "outputs": [
    {
     "name": "stdout",
     "output_type": "stream",
     "text": [
      "5 x 1 = 5\n",
      "5 x 2 = 10\n",
      "5 x 3 = 15\n",
      "5 x 4 = 20\n",
      "5 x 5 = 25\n",
      "5 x 6 = 30\n",
      "5 x 7 = 35\n",
      "5 x 8 = 40\n",
      "5 x 9 = 45\n",
      "5 x 10 = 50\n"
     ]
    }
   ],
   "source": [
    "#This is the photo one\n",
    "for i in range(1, 11):   # goes from 1 to 10\n",
    "     print(\"5 x\", i, \"=\", 5 * i)\n"
   ]
  },
  {
   "cell_type": "markdown",
   "id": "ededa506",
   "metadata": {},
   "source": [
    "### Fruits"
   ]
  },
  {
   "cell_type": "code",
   "execution_count": 20,
   "id": "70cb2e4b",
   "metadata": {},
   "outputs": [
    {
     "name": "stdout",
     "output_type": "stream",
     "text": [
      "['apple', 'orange', 'watermelon', 'bananna', 'grape']\n"
     ]
    }
   ],
   "source": [
    "#Need 5 different fruits and need 4 to be printed out\n",
    "\n",
    "fruits=['apple','orange','watermelon','bananna','grape']\n",
    "print(fruits)"
   ]
  },
  {
   "cell_type": "code",
   "execution_count": 21,
   "id": "e2e28183",
   "metadata": {},
   "outputs": [
    {
     "name": "stdout",
     "output_type": "stream",
     "text": [
      "apple\n",
      "orange\n",
      "watermelon\n",
      "bananna\n",
      "grape\n"
     ]
    }
   ],
   "source": [
    "for i in fruits:\n",
    "    print(i)"
   ]
  },
  {
   "cell_type": "markdown",
   "id": "2058a99f",
   "metadata": {},
   "source": [
    "### 2"
   ]
  },
  {
   "cell_type": "code",
   "execution_count": null,
   "id": "12ede1ed",
   "metadata": {},
   "outputs": [],
   "source": [
    "# use for loop and if to find the largest number inside of the brackets\n",
    "numbers:[12,45,78,23,56,99,34]\n",
    "if \n"
   ]
  },
  {
   "cell_type": "code",
   "execution_count": 18,
   "id": "b37db7cf",
   "metadata": {},
   "outputs": [
    {
     "name": "stdout",
     "output_type": "stream",
     "text": [
      "the largest number is: 99\n"
     ]
    }
   ],
   "source": [
    "numbers= [12,45,78,23,56,99,34]\n",
    "x= 12\n",
    "for i in range(1,7):\n",
    "    # print(numbers[i])\n",
    "    if x>(numbers[i]):\n",
    "        pass\n",
    "    else:\n",
    "        x=(numbers[i])\n",
    "print(\"the largest number is:\", x)"
   ]
  }
 ],
 "metadata": {
  "kernelspec": {
   "display_name": "Python 3",
   "language": "python",
   "name": "python3"
  },
  "language_info": {
   "codemirror_mode": {
    "name": "ipython",
    "version": 3
   },
   "file_extension": ".py",
   "mimetype": "text/x-python",
   "name": "python",
   "nbconvert_exporter": "python",
   "pygments_lexer": "ipython3",
   "version": "3.13.6"
  }
 },
 "nbformat": 4,
 "nbformat_minor": 5
}
