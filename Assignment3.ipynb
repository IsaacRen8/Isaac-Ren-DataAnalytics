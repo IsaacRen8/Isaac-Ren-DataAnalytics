{
 "cells": [
  {
   "cell_type": "markdown",
   "id": "5cb4950f",
   "metadata": {},
   "source": [
    "# Weather"
   ]
  },
  {
   "cell_type": "code",
   "execution_count": 6,
   "id": "7e1c6b67",
   "metadata": {},
   "outputs": [
    {
     "name": "stdout",
     "output_type": "stream",
     "text": [
      "If it's raining,\n",
      "Bring umbrella\n"
     ]
    }
   ],
   "source": [
    "status=\"rain\"\n",
    "#if rain is the \"weather\" or status then change to umbrella\n",
    "if status == 'rain':\n",
    "    print(\"If it's raining,\")\n",
    "    print(\"Bring umbrella\")\n"
   ]
  },
  {
   "cell_type": "code",
   "execution_count": 7,
   "id": "05ce8e4d",
   "metadata": {},
   "outputs": [
    {
     "name": "stdout",
     "output_type": "stream",
     "text": [
      "If it's snowing,\n",
      "Wear puffy jacket\n"
     ]
    }
   ],
   "source": [
    "status=\"snowing\"\n",
    "if status == 'snowing':\n",
    "    print(\"If it's snowing,\")\n",
    "    print(\"Wear puffy jacket\")"
   ]
  },
  {
   "cell_type": "code",
   "execution_count": 8,
   "id": "679e01e8",
   "metadata": {},
   "outputs": [
    {
     "name": "stdout",
     "output_type": "stream",
     "text": [
      "If weather is sunny, wear sunscreen\n"
     ]
    }
   ],
   "source": [
    "status=\"sunny\"\n",
    "if status == 'sunny':\n",
    "    print(\"If weather is sunny, wear sunscreen\")"
   ]
  },
  {
   "cell_type": "markdown",
   "id": "9097d7dc",
   "metadata": {},
   "source": [
    "# Part Two"
   ]
  },
  {
   "cell_type": "code",
   "execution_count": 9,
   "id": "ae010157",
   "metadata": {},
   "outputs": [
    {
     "name": "stdout",
     "output_type": "stream",
     "text": [
      "positive\n"
     ]
    }
   ],
   "source": [
    "# x is my variable\n",
    "number=8\n",
    "if number < 0:\n",
    "    print ('negative')\n",
    "elif number > 0:\n",
    "    print ('positive')"
   ]
  },
  {
   "cell_type": "markdown",
   "id": "f5624c19",
   "metadata": {},
   "source": [
    "# Part 3"
   ]
  },
  {
   "cell_type": "code",
   "execution_count": 12,
   "id": "e95b4f97",
   "metadata": {},
   "outputs": [
    {
     "name": "stdout",
     "output_type": "stream",
     "text": [
      "y is larger\n"
     ]
    }
   ],
   "source": [
    "x=20\n",
    "y=67\n",
    "if x > y:\n",
    "    print('x is greater')\n",
    "if x<y:\n",
    "    print ('y is larger')\n",
    "\n"
   ]
  },
  {
   "cell_type": "markdown",
   "id": "4aa604cf",
   "metadata": {},
   "source": [
    "# Part 5"
   ]
  },
  {
   "cell_type": "code",
   "execution_count": 13,
   "id": "94050d7d",
   "metadata": {},
   "outputs": [
    {
     "name": "stdout",
     "output_type": "stream",
     "text": [
      "67 is odd\n"
     ]
    }
   ],
   "source": [
    "v=67\n",
    "if v%2 == 0:\n",
    "    print(f\"{v} is even.\")\n",
    "else:\n",
    "    print(f\"{v} is odd\")\n"
   ]
  }
 ],
 "metadata": {
  "kernelspec": {
   "display_name": "Python 3",
   "language": "python",
   "name": "python3"
  },
  "language_info": {
   "codemirror_mode": {
    "name": "ipython",
    "version": 3
   },
   "file_extension": ".py",
   "mimetype": "text/x-python",
   "name": "python",
   "nbconvert_exporter": "python",
   "pygments_lexer": "ipython3",
   "version": "3.13.6"
  }
 },
 "nbformat": 4,
 "nbformat_minor": 5
}
